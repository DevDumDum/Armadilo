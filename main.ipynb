{
 "cells": [
  {
   "cell_type": "code",
   "execution_count": 6,
   "metadata": {},
   "outputs": [],
   "source": [
    "import os\n",
    "import numpy as np\n",
    "import cv2 as cv2\n",
    "\n",
    "%matplotlib inline\n",
    "import matplotlib as mpl\n",
    "import matplotlib.pyplot as plt\n",
    "mpl.rc('axes', labelsize=14)\n",
    "mpl.rc('xtick', labelsize=12)\n",
    "mpl.rc('ytick', labelsize=12)\n",
    "\n",
    "#Routine to fix\n",
    "def fixColor(image):\n",
    "    return(cv2.cvtColor(image, cv2.COLOR_BGR2RGB))"
   ]
  },
  {
   "cell_type": "code",
   "execution_count": 18,
   "metadata": {},
   "outputs": [],
   "source": []
  },
  {
   "cell_type": "code",
   "execution_count": 8,
   "metadata": {},
   "outputs": [],
   "source": [
    "def lapImage(image):\n",
    "    lap = cv2.Laplacian(image, cv2.CV_64F)\n",
    "    lap = np.uint8(np.absolute(lap))\n",
    "    return fixColor(lap)"
   ]
  },
  {
   "cell_type": "code",
   "execution_count": 61,
   "metadata": {},
   "outputs": [],
   "source": [
    "from unittest import result\n",
    "\n",
    "\n",
    "cap = cv2.VideoCapture(2)\n",
    "cwd = os.getcwd()\n",
    "img_height = 150\n",
    "img_width = 150\n",
    "\n",
    "resultImg = 0\n",
    "\n",
    "while cap.isOpened():\n",
    "    cropped = None\n",
    "    ret, frame = cap.read()\n",
    "    frame_width  = int(cap.get(cv2.CAP_PROP_FRAME_WIDTH))\n",
    "    frame_height = int(cap.get(cv2.CAP_PROP_FRAME_HEIGHT))\n",
    "\n",
    "    #image = cv2.cvtColor(frame, cv2.COLOR_RGB2BGR)\n",
    "    image = cv2.flip(frame, 1)\n",
    "    image.flags.writeable = True\n",
    "    \n",
    "\n",
    "    if resultImg == 1:\n",
    "        try:\n",
    "            image[0:img_height, 0:img_width] = img2\n",
    "        except Exception as e:\n",
    "            print(e)\n",
    "            plt.imshow(img2)\n",
    "            pass\n",
    "\n",
    "    k = cv2.waitKey(10) & 0xFF\n",
    "    if k == ord('q') or k == 27:\n",
    "        break\n",
    "    if k == ord('p'):\n",
    "        resultImg = 1\n",
    "        image2 = cv2.cvtColor(frame, cv2.COLOR_BGR2GRAY)\n",
    "\n",
    "        image2 = cv2.medianBlur(image2, 5)\n",
    "        edges = cv2.Laplacian(image2, cv2.CV_8U, ksize=5)\n",
    "        ret, mask = cv2.threshold(edges, 100, 255, cv2.THRESH_BINARY_INV) \n",
    "        mask = cv2.cvtColor(mask, cv2.COLOR_GRAY2BGR)\n",
    "\n",
    "        img2 = cv2.resize(mask, (img_height,img_width), interpolation= cv2.INTER_LINEAR)\n",
    "\n",
    "    #image.flags.writeable = True\n",
    "    #image = cv2.cvtColor(frame, cv2.COLOR_RGB2BGR)\n",
    "    cv2.imshow('ASL Alphabet Recognition', image)\n",
    "\n",
    "cap.release()\n",
    "cv2.destroyAllWindows()"
   ]
  },
  {
   "cell_type": "code",
   "execution_count": null,
   "metadata": {},
   "outputs": [],
   "source": []
  }
 ],
 "metadata": {
  "kernelspec": {
   "display_name": "Python 3.9.0 64-bit",
   "language": "python",
   "name": "python3"
  },
  "language_info": {
   "codemirror_mode": {
    "name": "ipython",
    "version": 3
   },
   "file_extension": ".py",
   "mimetype": "text/x-python",
   "name": "python",
   "nbconvert_exporter": "python",
   "pygments_lexer": "ipython3",
   "version": "3.9.0"
  },
  "orig_nbformat": 4,
  "vscode": {
   "interpreter": {
    "hash": "3d89207d639613371ecfc5c3bd80bceba0f0276b2fbd6ff18ca0a00bf1e42e7f"
   }
  }
 },
 "nbformat": 4,
 "nbformat_minor": 2
}
